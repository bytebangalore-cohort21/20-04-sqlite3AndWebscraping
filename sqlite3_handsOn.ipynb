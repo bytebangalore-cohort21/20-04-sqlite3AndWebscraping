{
 "cells": [
  {
   "cell_type": "code",
   "execution_count": 15,
   "metadata": {},
   "outputs": [],
   "source": [
    "import sqlite3\n",
    "\n",
    "\n",
    "conn = sqlite3.connect('example.db')\n",
    "c = conn.cursor()\n",
    "\n",
    "# c.execute('''CREATE TABLE stocks (date text, trans text, symbol text, qty real, price real)''')\n",
    "# import cx_Oracle\n",
    "con = cx_Oracle.connect('pythonhol/welcome@127.0.0.1/orcl')\n",
    "\n",
    "\n",
    "\n"
   ]
  },
  {
   "cell_type": "code",
   "execution_count": 18,
   "metadata": {},
   "outputs": [],
   "source": [
    "c.execute(\"INSERT INTO stocks VALUES ('2019-01-05','Sell','AMAZON',50,35.14)\")\n",
    "conn.commit()"
   ]
  },
  {
   "cell_type": "code",
   "execution_count": 22,
   "metadata": {},
   "outputs": [
    {
     "name": "stdout",
     "output_type": "stream",
     "text": [
      "('2019-01-05', 'Sell', 'AMAZON', 50.0, 35.14)\n"
     ]
    }
   ],
   "source": [
    "t = ('AMAZON',)\n",
    "c.execute('SELECT * FROM stocks WHERE symbol=?', t)\n",
    "print(c.fetchone())"
   ]
  },
  {
   "cell_type": "code",
   "execution_count": 25,
   "metadata": {},
   "outputs": [
    {
     "name": "stdout",
     "output_type": "stream",
     "text": [
      "('2019-01-05', 'Sell', 'AMAZON', 50.0, 35.14)\n"
     ]
    }
   ],
   "source": [
    "c.execute('SELECT * FROM stocks WHERE symbol=\"AMAZON\"')\n",
    "print(c.fetchone())"
   ]
  },
  {
   "cell_type": "code",
   "execution_count": 43,
   "metadata": {},
   "outputs": [
    {
     "name": "stdout",
     "output_type": "stream",
     "text": [
      "[('2006-01-05', 'BUY', 'RHAT', 100.0, 35.14), ('2006-01-05', 'BUY', 'RHAT', 100.0, 35.14), ('2006-01-05', 'BUY', 'RHAT', 100.0, 35.14), ('2006-01-05', 'BUY', 'RHAT', 100.0, 35.14)]\n"
     ]
    }
   ],
   "source": [
    "stockname = ['AMAZON','RHAT','GOOGLE','NIKE']\n",
    "stockname[0]\n",
    "\n",
    "# search_item=(stockname[0],)\n",
    "c.execute('SELECT * FROM stocks WHERE symbol=? and trans=?',(stockname[1],'BUY'))\n",
    "print(c.fetchall())"
   ]
  },
  {
   "cell_type": "code",
   "execution_count": null,
   "metadata": {},
   "outputs": [],
   "source": [
    "stockname = ['AMAZON','RHAT','GOOGLE','NIKE']\n",
    "stockname[0]\n",
    "\n",
    "# search_item=(stockname[0],)\n",
    "c.execute('SELECT * FROM stocks WHERE symbol=? and trans=?',(stockname[1],'BUY'))\n",
    "print(c.fetchall())"
   ]
  }
 ],
 "metadata": {
  "kernelspec": {
   "display_name": "Python 3",
   "language": "python",
   "name": "python3"
  },
  "language_info": {
   "codemirror_mode": {
    "name": "ipython",
    "version": 3
   },
   "file_extension": ".py",
   "mimetype": "text/x-python",
   "name": "python",
   "nbconvert_exporter": "python",
   "pygments_lexer": "ipython3",
   "version": "3.7.2"
  }
 },
 "nbformat": 4,
 "nbformat_minor": 2
}
