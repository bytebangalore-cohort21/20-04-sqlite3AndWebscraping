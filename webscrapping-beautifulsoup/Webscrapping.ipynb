{
 "cells": [
  {
   "cell_type": "markdown",
   "metadata": {},
   "source": [
    "# Webscrapping using python\n",
    "\n",
    "* prerequisites - HTML knowledge\n",
    "\n",
    "### Python Libraries required\n",
    "* Beautiful soup (bs4)\n",
    "* requests\n",
    "* html5lib, lxml\n",
    "\n"
   ]
  },
  {
   "cell_type": "code",
   "execution_count": 2,
   "metadata": {},
   "outputs": [],
   "source": [
    "from bs4 import BeautifulSoup\n",
    "import requests"
   ]
  },
  {
   "cell_type": "code",
   "execution_count": 3,
   "metadata": {},
   "outputs": [],
   "source": [
    "url = 'https://www.boxofficemojo.com/yearly/chart/?yr=2019&p=.htm'"
   ]
  },
  {
   "cell_type": "code",
   "execution_count": 5,
   "metadata": {},
   "outputs": [],
   "source": [
    "x = requests.get(url)\n",
    "page = x.content"
   ]
  },
  {
   "cell_type": "code",
   "execution_count": 8,
   "metadata": {},
   "outputs": [],
   "source": [
    "soup = BeautifulSoup(page, 'html.parser')"
   ]
  },
  {
   "cell_type": "code",
   "execution_count": 13,
   "metadata": {},
   "outputs": [
    {
     "data": {
      "text/plain": [
       "'2019 Yearly Box Office Results - Box Office Mojo'"
      ]
     },
     "execution_count": 13,
     "metadata": {},
     "output_type": "execute_result"
    }
   ],
   "source": [
    "soup.title.text"
   ]
  },
  {
   "cell_type": "code",
   "execution_count": 44,
   "metadata": {},
   "outputs": [],
   "source": [
    "all_tables = soup.find_all('table')\n",
    "my_table = all_tables[6]"
   ]
  },
  {
   "cell_type": "code",
   "execution_count": 50,
   "metadata": {},
   "outputs": [],
   "source": [
    "table_rows = my_table.find_all('tr')"
   ]
  },
  {
   "cell_type": "code",
   "execution_count": 62,
   "metadata": {},
   "outputs": [],
   "source": [
    "headings = table_rows[0].find_all('td')"
   ]
  },
  {
   "cell_type": "code",
   "execution_count": 90,
   "metadata": {},
   "outputs": [
    {
     "data": {
      "text/plain": [
       "'$153,433,423'"
      ]
     },
     "execution_count": 90,
     "metadata": {},
     "output_type": "execute_result"
    }
   ],
   "source": [
    "data_elements = table_rows[2].find_all('td')\n",
    "rank = data_elements[0].text\n",
    "movie = data_elements[1].text\n",
    "studio = data_elements[2].text\n",
    "gross = data_elements[3].text\n",
    "theatres = data_elements[4].text\n",
    "opening = data_elements[5].text"
   ]
  },
  {
   "cell_type": "code",
   "execution_count": 91,
   "metadata": {},
   "outputs": [],
   "source": []
  },
  {
   "cell_type": "code",
   "execution_count": 103,
   "metadata": {},
   "outputs": [],
   "source": [
    "rank_list=[]\n",
    "movie_list=[]\n",
    "studio_list=[]\n",
    "gross_list=[]\n",
    "theatres_list=[]\n",
    "opening_list=[]"
   ]
  },
  {
   "cell_type": "code",
   "execution_count": 104,
   "metadata": {},
   "outputs": [],
   "source": [
    "for num in range(2,101):\n",
    "    data_elements = table_rows[num].find_all('td')\n",
    "    rank = data_elements[0].text\n",
    "    movie = data_elements[1].text\n",
    "    studio = data_elements[2].text\n",
    "    gross = data_elements[3].text\n",
    "    theatres = data_elements[4].text\n",
    "    opening = data_elements[5].text\n",
    "    \n",
    "    rank_list.append(rank)\n",
    "    movie_list.append(movie)\n",
    "    studio_list.append(studio)\n",
    "    gross_list.append(gross)\n",
    "    theatres_list.append(theatres)\n",
    "    opening_list.append(opening) \n",
    "    \n",
    "    "
   ]
  },
  {
   "cell_type": "code",
   "execution_count": 105,
   "metadata": {},
   "outputs": [
    {
     "data": {
      "text/plain": [
       "['Captain Marvel ',\n",
       " 'Us',\n",
       " 'How to Train Your Dragon: The Hidden World',\n",
       " 'Shazam!',\n",
       " 'Glass',\n",
       " 'The Upside',\n",
       " 'The LEGO Movie 2: The Second Part',\n",
       " 'Dumbo (2019)',\n",
       " 'Alita: Battle Angel',\n",
       " \"Tyler Perry's A Madea Family Funeral\",\n",
       " 'Escape Room',\n",
       " 'What Men Want',\n",
       " 'Pet Sematary (2019)',\n",
       " \"Isn't It Romantic\",\n",
       " 'Five Feet Apart',\n",
       " 'Wonder Park',\n",
       " \"A Dog's Way Home\",\n",
       " 'The Curse of La Llorona ',\n",
       " 'Little',\n",
       " 'Cold Pursuit',\n",
       " 'Dragon Ball Super: Broly',\n",
       " 'Happy Death Day 2U',\n",
       " 'Fighting with My Family',\n",
       " 'Hellboy (2019)',\n",
       " 'Breakthrough',\n",
       " 'Unplanned',\n",
       " 'The Kid Who Would be King',\n",
       " 'Miss Bala',\n",
       " 'The Prodigy',\n",
       " 'Missing Link',\n",
       " 'After (2019)',\n",
       " 'Greta',\n",
       " 'The Best of Enemies',\n",
       " 'No Manches Frida 2',\n",
       " 'Hotel Mumbai',\n",
       " 'Serenity (2019)',\n",
       " 'Apollo 11',\n",
       " 'Run the Race',\n",
       " 'Captive State',\n",
       " 'The Wandering Earth',\n",
       " 'Gully Boy',\n",
       " 'Gloria Bell',\n",
       " 'Penguins (Disneynature)',\n",
       " 'The Mustang',\n",
       " 'Uri: The Surgical Strike',\n",
       " 'Replicas',\n",
       " 'The Oscar Nominated Short Films 2019',\n",
       " 'BTS World Tour: Love Yourself in Seoul',\n",
       " 'The Beach Bum',\n",
       " 'Everybody Knows',\n",
       " 'Arctic',\n",
       " 'Kalank',\n",
       " 'Gone with the Wind (80th Anniversary)',\n",
       " 'Total Dhamaal ',\n",
       " 'The Wizard of Oz 80th Anniversary',\n",
       " 'Badla',\n",
       " 'The Aftermath',\n",
       " 'Extreme Job',\n",
       " 'The Kid (2019)',\n",
       " \"The Pilgrim's Progress\",\n",
       " 'Asterix: The Secret of the Magic Potion',\n",
       " 'Los Domirriqueños 2',\n",
       " 'Ek Ladki Ko Dekha Toh Aisa Laga',\n",
       " 'Luka Chuppi',\n",
       " 'NOAH The Musical',\n",
       " 'Perfect Strangers',\n",
       " \"Howl's Moving Castle: 15th Anniverary - Studio Ghibli (2019)\",\n",
       " 'Climax',\n",
       " 'High Life',\n",
       " 'Patterns of Evidence: The Moses Controversy',\n",
       " 'JONI 75: A Birthday Celebration',\n",
       " 'Transit',\n",
       " 'More than Blue',\n",
       " 'Woman at War',\n",
       " 'Dirty Dancing (Fathom Event)',\n",
       " 'The Least of These: The Graham Staines Story',\n",
       " 'Furie',\n",
       " 'TCM: To Kill a Mockingbird',\n",
       " 'TCM: My Fair Lady 55th Anniversary',\n",
       " 'Birds of Passage ',\n",
       " 'The Public',\n",
       " 'Cruel Intentions (20th Anniversary)',\n",
       " 'Teen Spirit',\n",
       " 'CatVideoFest 2019',\n",
       " 'The Russian Five',\n",
       " 'Ben-Hur (60th Anniversary)',\n",
       " \"Fate/Stay Night: Heaven's Feel - II. Lost Butterfly\",\n",
       " 'The Invisibles',\n",
       " 'Ash is Purest White',\n",
       " 'The Wedding Guest',\n",
       " 'Mia and the White Lion',\n",
       " 'The Hummingbird Project',\n",
       " 'A Silent Voice (2019 re-release)',\n",
       " 'Errol Spence vs. Mikey Garcia',\n",
       " 'The Man Who Killed Don Quixote',\n",
       " 'Josh Groban Bridges from Madison Square Garden',\n",
       " 'Bolshoi Ballet: Sleeping Beauty (2019)',\n",
       " 'P Storm',\n",
       " 'Junglee']"
      ]
     },
     "execution_count": 105,
     "metadata": {},
     "output_type": "execute_result"
    }
   ],
   "source": [
    "movie_list"
   ]
  },
  {
   "cell_type": "code",
   "execution_count": null,
   "metadata": {},
   "outputs": [],
   "source": []
  }
 ],
 "metadata": {
  "kernelspec": {
   "display_name": "Python 3",
   "language": "python",
   "name": "python3"
  },
  "language_info": {
   "codemirror_mode": {
    "name": "ipython",
    "version": 3
   },
   "file_extension": ".py",
   "mimetype": "text/x-python",
   "name": "python",
   "nbconvert_exporter": "python",
   "pygments_lexer": "ipython3",
   "version": "3.7.2"
  }
 },
 "nbformat": 4,
 "nbformat_minor": 2
}
